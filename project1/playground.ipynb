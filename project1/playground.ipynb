{
 "cells": [
  {
   "metadata": {
    "ExecuteTime": {
     "end_time": "2025-02-17T09:28:40.266725Z",
     "start_time": "2025-02-17T09:28:38.583084Z"
    }
   },
   "cell_type": "code",
   "source": [
    "import pdfplumber\n",
    "\n",
    "def extract_text_from_pdf(pdf_path):\n",
    "    text = \"\"\n",
    "    with pdfplumber.open(pdf_path) as pdf:\n",
    "        for page in pdf.pages:\n",
    "            text += page.extract_text() + \"\\n\"\n",
    "    return text\n",
    "\n",
    "pdf_text = extract_text_from_pdf(\"pdfs/1908.09519.pdf\")"
   ],
   "id": "aff0b720883dd329",
   "outputs": [],
   "execution_count": 5
  },
  {
   "metadata": {
    "ExecuteTime": {
     "end_time": "2025-02-17T09:28:41.904317Z",
     "start_time": "2025-02-17T09:28:40.287115Z"
    }
   },
   "cell_type": "code",
   "source": [
    "from openai import OpenAI\n",
    "from dotenv import load_dotenv\n",
    "import os\n",
    "load_dotenv()\n",
    "\n",
    "client = OpenAI()\n",
    "client.api_key = os.getenv(\"OPENAI_API_KEY\")\n",
    "completion = client.chat.completions.create(\n",
    "    model=\"gpt-4o\",\n",
    "    store=True,\n",
    "    messages = [\n",
    "    {\n",
    "        \"role\": \"system\",\n",
    "        \"content\": (\n",
    "            \"You are a data extraction assistant. The user will provide the text from a PDF. \"\n",
    "            \"Identify and list all email addresses that appear in the text (i.e., strings containing '@'). \"\n",
    "            \"If you find no email addresses, return 'None'. \"\n",
    "            \"Output only the emails or 'None'—no additional explanations.\"\n",
    "        )\n",
    "    },\n",
    "    {\n",
    "        \"role\": \"user\",\n",
    "        \"content\": pdf_text\n",
    "    }\n",
    "    ],\n",
    "    temperature=0.2,\n",
    ")\n",
    "\n",
    "# Extract and print the message content\n",
    "message_content = completion.choices[0].message.content\n",
    "print(message_content)"
   ],
   "id": "2f3b16f2323ab2e1",
   "outputs": [
    {
     "name": "stdout",
     "output_type": "stream",
     "text": [
      "capraravalentina@gmail.com\n"
     ]
    }
   ],
   "execution_count": 6
  },
  {
   "metadata": {
    "ExecuteTime": {
     "end_time": "2025-02-17T11:28:38.396655Z",
     "start_time": "2025-02-17T11:28:38.387680Z"
    }
   },
   "cell_type": "code",
   "source": [
    "from sklearn.feature_extraction.text import TfidfVectorizer\n",
    "from sklearn.metrics.pairwise import cosine_similarity\n",
    "\n",
    "doc1 = 'shifan.xu@yale.edu'\n",
    "doc2 = \"Shifan Xu\"\n",
    "\n",
    "vectorizer = TfidfVectorizer(analyzer='char', ngram_range=(1, 2), lowercase=True)\n",
    "tfidf_matrix = vectorizer.fit_transform([doc1.split(\"@\")[0], doc2])\n",
    "\n",
    "# Calculate cosine similarity\n",
    "cosine_sim = cosine_similarity(tfidf_matrix[0:1], tfidf_matrix[1:2])\n",
    "print(f\"Cosine Similarity (Character n-grams): {cosine_sim[0][0]}\")\n",
    "\n",
    "if cosine_sim > 0.6:\n",
    "    print(\"Match\")"
   ],
   "id": "96b937f77511715c",
   "outputs": [
    {
     "name": "stdout",
     "output_type": "stream",
     "text": [
      "Cosine Similarity (Character n-grams): 0.7025997416361692\n",
      "Match\n"
     ]
    }
   ],
   "execution_count": 42
  },
  {
   "metadata": {},
   "cell_type": "markdown",
   "source": "# IF NOT MATCHED",
   "id": "e7832b41ae5b4082"
  },
  {
   "metadata": {
    "ExecuteTime": {
     "end_time": "2025-02-17T13:14:49.161300Z",
     "start_time": "2025-02-17T13:14:46.879780Z"
    }
   },
   "cell_type": "code",
   "source": [
    "import requests\n",
    "from pydantic import BaseModel\n",
    "from dotenv import load_dotenv\n",
    "import os\n",
    "\n",
    "load_dotenv()\n",
    "\n",
    "class AnswerFormat(BaseModel):\n",
    "    email_adress: str\n",
    "\n",
    "url = \"https://api.perplexity.ai/chat/completions\"\n",
    "headers = {\"Authorization\": f\"Bearer {os.getenv('PERPLEXITY_API_KEY')}\"}\n",
    "payload = {\n",
    "    \"model\": \"sonar-pro\",\n",
    "    \"messages\": [\n",
    "        {\"role\": \"system\",\n",
    "         \"content\":(\n",
    "            \"You are a web searcher assistant. The user will provide an author name.\"\n",
    "            \"Your task is: Search email addresses for provided author name.\"\n",
    "            \"If you find no email addresses, return 'None'. \"\n",
    "            \"Output only the emails or 'None'—no additional explanations.\"\n",
    "         ),\n",
    "         },\n",
    "        {\"role\": \"user\", \"content\": \"Kohr Holger\"},\n",
    "    ],\n",
    "    \"response_format\": {\n",
    "        \"type\": \"json_schema\",\n",
    "        \"json_schema\": {\"schema\": AnswerFormat.model_json_schema()},\n",
    "    },\n",
    "}\n",
    "\n",
    "response = requests.post(url, headers=headers, json=payload)\n",
    "\n",
    "if response.status_code == 200:\n",
    "    try:\n",
    "        response_json = response.json()\n",
    "        print(response_json[\"choices\"][0][\"message\"][\"content\"])\n",
    "    except requests.JSONDecodeError:\n",
    "        print(\"Error: Response content is not valid JSON\")\n",
    "else:\n",
    "    print(f\"Error: Received status code {response.status_code}\")"
   ],
   "id": "48900ca33bd67889",
   "outputs": [
    {
     "name": "stdout",
     "output_type": "stream",
     "text": [
      "None\n"
     ]
    }
   ],
   "execution_count": 54
  },
  {
   "metadata": {},
   "cell_type": "code",
   "outputs": [],
   "execution_count": null,
   "source": "",
   "id": "e4a42da038c32808"
  }
 ],
 "metadata": {
  "kernelspec": {
   "display_name": "Python 3",
   "language": "python",
   "name": "python3"
  },
  "language_info": {
   "codemirror_mode": {
    "name": "ipython",
    "version": 2
   },
   "file_extension": ".py",
   "mimetype": "text/x-python",
   "name": "python",
   "nbconvert_exporter": "python",
   "pygments_lexer": "ipython2",
   "version": "2.7.6"
  }
 },
 "nbformat": 4,
 "nbformat_minor": 5
}
